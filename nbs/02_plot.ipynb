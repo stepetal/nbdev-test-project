{
 "cells": [
  {
   "cell_type": "markdown",
   "metadata": {},
   "source": [
    "# Plot\n",
    "\n",
    "> Class for plotting a graph"
   ]
  },
  {
   "cell_type": "code",
   "execution_count": null,
   "metadata": {},
   "outputs": [],
   "source": [
    "#| default_exp plot"
   ]
  },
  {
   "cell_type": "code",
   "execution_count": 9,
   "metadata": {},
   "outputs": [],
   "source": [
    "#| hide\n",
    "from fastcore.test import *\n",
    "import matplotlib.pyplot as plt\n",
    "import nbdev; nbdev.nbdev_export()"
   ]
  },
  {
   "cell_type": "code",
   "execution_count": 13,
   "metadata": {},
   "outputs": [],
   "source": [
    "#| export\n",
    "class SimplePlot:\n",
    "    \"Simple plot for drawing graphs with type nbdev_test_project.graph\"\n",
    "    def __init__(self, \n",
    "                 plot, # plot for drawing graphs (matplotlib.pyplot)\n",
    "                 n_rows = 1, # number of rows in plot\n",
    "                 n_cols = 1, # number of rows in plot\n",
    "                 size_of_plot = (10,4) # size of plot in inches (width, height)\n",
    "                 ):\n",
    "        self.size_of_plot = size_of_plot\n",
    "        self.rows = n_rows\n",
    "        self.cols = n_cols\n",
    "        self.plt = plot\n",
    "        self.graph_list = []\n",
    "    def add_graph(self, graph):\n",
    "        self.graph_list.append(graph)\n",
    "    def get_number_of_graphs(self):\n",
    "        return len(self.graph_list)\n",
    "    def get_number_of_rows(self):\n",
    "        return self.rows\n",
    "    def get_number_of_cols(self):\n",
    "        return self.cols\n",
    "    def plot_first_graph(self):\n",
    "        if len(self.graph_list) != 0:\n",
    "            self.plt.suptitle(self.graph_list[0].get_name())\n",
    "            self.plt.plot(self.graph_list[0].get_x(),self.graph_list[0].get_y())\n",
    "    def plot_all_graphs(self):\n",
    "        self.plt.figure(figsize = self.size_of_plot)\n",
    "        for idx, graph in enumerate(self.graph_list):\n",
    "            self.plt.subplot(self.rows, self.cols, idx + 1)\n",
    "            self.plt.plot(graph.get_x(), graph.get_y())\n",
    "            self.plt.title(graph.get_name())\n",
    "        "
   ]
  },
  {
   "cell_type": "markdown",
   "metadata": {},
   "source": [
    "## Some simple tests"
   ]
  },
  {
   "cell_type": "code",
   "execution_count": 12,
   "metadata": {},
   "outputs": [],
   "source": [
    "myPlot = SimplePlot(plt, 10, 5, (6,4))\n",
    "test_eq(myPlot.get_number_of_rows(), 10)\n",
    "test_eq(myPlot.get_number_of_cols(), 5)"
   ]
  }
 ],
 "metadata": {
  "kernelspec": {
   "display_name": "Python 3 (ipykernel)",
   "language": "python",
   "name": "python3"
  },
  "language_info": {
   "codemirror_mode": {
    "name": "ipython",
    "version": 3
   },
   "file_extension": ".py",
   "mimetype": "text/x-python",
   "name": "python",
   "nbconvert_exporter": "python",
   "pygments_lexer": "ipython3",
   "version": "3.10.12"
  },
  "widgets": {
   "application/vnd.jupyter.widget-state+json": {
    "state": {},
    "version_major": 2,
    "version_minor": 0
   }
  }
 },
 "nbformat": 4,
 "nbformat_minor": 4
}
